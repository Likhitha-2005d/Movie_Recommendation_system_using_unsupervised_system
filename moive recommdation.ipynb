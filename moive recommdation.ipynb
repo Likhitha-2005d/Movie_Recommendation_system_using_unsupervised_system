{
 "cells": [
  {
   "cell_type": "code",
   "execution_count": null,
   "id": "58f7c3db",
   "metadata": {},
   "outputs": [],
   "source": [
    "# Installing neccessary libraries here\n",
    "! pip install pandas\n",
    "! pip install numpy\n",
    "! pip install scikit-learn\n",
    "! pip install matplotlib\n",
    "! pip install seaborn"
   ]
  }
 ],
 "metadata": {
  "language_info": {
   "name": "python"
  }
 },
 "nbformat": 4,
 "nbformat_minor": 5
}
